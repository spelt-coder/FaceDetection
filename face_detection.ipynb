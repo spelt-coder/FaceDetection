{
 "cells": [
  {
   "cell_type": "code",
   "execution_count": 1,
   "id": "c6096bb0",
   "metadata": {},
   "outputs": [
    {
     "name": "stdout",
     "output_type": "stream",
     "text": [
      "WARNING:tensorflow:From C:\\Users\\23324\\anaconda3\\lib\\site-packages\\keras\\src\\losses.py:2976: The name tf.losses.sparse_softmax_cross_entropy is deprecated. Please use tf.compat.v1.losses.sparse_softmax_cross_entropy instead.\n",
      "\n"
     ]
    }
   ],
   "source": [
    "# Imports\n",
    "# OpenCV for Haar Cascade, DNN, drawing rectangles, and displaying images\n",
    "import cv2\n",
    "\n",
    "# NumPy for array manipulation. For drawing rectangles\n",
    "import numpy as np\n",
    "\n",
    "# Dlib for CNN, HoG, and linear SVM\n",
    "import dlib\n",
    "\n",
    "# MTCNN for face detection\n",
    "import mtcnn\n"
   ]
  },
  {
   "cell_type": "code",
   "execution_count": 20,
   "id": "2bd4ea1f",
   "metadata": {},
   "outputs": [],
   "source": [
    "# OpenCV with Haar Cascade\n",
    "def detect_faces_haar_cascade(image_path):\n",
    "    # Load Haar Cascade face detector\n",
    "    face_cascade = cv2.CascadeClassifier('opencv_haarcascade/haarcascade_frontalface_default.xml')\n",
    "    image = cv2.imread(image_path)\n",
    "    # Convert image to grayscale\n",
    "    gray = cv2.cvtColor(image, cv2.COLOR_BGR2GRAY)\n",
    "    faces = face_cascade.detectMultiScale(gray, scaleFactor=1.1, minNeighbors=5, minSize=(30, 30))\n",
    "    for (x, y, w, h) in faces:\n",
    "        cv2.rectangle(image, (x, y), (x+w, y+h), (255, 0, 0), 2)\n",
    "    # Display image with detected faces\n",
    "    cv2.imshow('Face Detection (Haar Cascade)', image)\n",
    "    cv2.waitKey(0)\n",
    "    cv2.destroyAllWindows()\n",
    "\n",
    "\n",
    "# OpenCV with DNN\n",
    "def detect_faces_dnn(image_path):\n",
    "    # Load DNN model\n",
    "    face_detector = cv2.dnn.readNetFromCaffe(\"opencv_dnn/deploy.prototxt\", \"opencv_dnn/res10_300x300_ssd_iter_140000_fp16.caffemodel\")\n",
    "    image = cv2.imread(image_path)\n",
    "    (h, w) = image.shape[:2]\n",
    "    blob = cv2.dnn.blobFromImage(cv2.resize(image, (300, 300)), 1.0, (300, 300), (104.0, 177.0, 123.0))\n",
    "    face_detector.setInput(blob)\n",
    "    detections = face_detector.forward()\n",
    "    for i in range(0, detections.shape[2]):\n",
    "        confidence = detections[0, 0, i, 2]\n",
    "        if confidence > 0.5:\n",
    "            box = detections[0, 0, i, 3:7] * np.array([w, h, w, h])\n",
    "            (startX, startY, endX, endY) = box.astype(\"int\")\n",
    "            cv2.rectangle(image, (startX, startY), (endX, endY), (0, 0, 255), 2)\n",
    "    cv2.imshow('Face Detection (DNN)', image)\n",
    "    cv2.waitKey(0)\n",
    "    cv2.destroyAllWindows()\n",
    "\n",
    "# Dlib with CNN\n",
    "def detect_faces_dlib_cnn(image_path):\n",
    "    # Load the Dlib CNN face detector\n",
    "    cnn_face_detector = dlib.cnn_face_detection_model_v1(\"dlib_cnn/mmod_human_face_detector.dat\")\n",
    "    image = cv2.imread(image_path)\n",
    "    gray = cv2.cvtColor(image, cv2.COLOR_BGR2GRAY)\n",
    "    faces = cnn_face_detector(gray, 1)\n",
    "    for faceRect in faces:\n",
    "        rect = faceRect.rect\n",
    "        x, y, w, h = rect.left(), rect.top(), rect.right(), rect.bottom()  \n",
    "        cv2.rectangle(image, (x, y), (w, h), (0, 255, 0), 2)\n",
    "    cv2.imshow('Face Detection (Dlib CNN)', image)\n",
    "    cv2.waitKey(0)\n",
    "    cv2.destroyAllWindows()\n",
    "    \n",
    "# Dlib with HoG and linear SVM\n",
    "def detect_faces_dlib_hog(image_path):\n",
    "    image = cv2.imread(image_path)\n",
    "    gray = cv2.cvtColor(image, cv2.COLOR_BGR2GRAY)\n",
    "    # Load Dlib HoG face detector\n",
    "    detector = dlib.get_frontal_face_detector()\n",
    "    faces = detector(gray)\n",
    "    for face in faces:\n",
    "        x, y, w, h = (face.left(), face.top(), face.width(), face.height())\n",
    "        cv2.rectangle(image, (x, y), (x + w, y + h), (0, 255, 0), 2)\n",
    "    cv2.imshow('Face Detection (Dlib HoG)', image)\n",
    "    cv2.waitKey(0)\n",
    "    cv2.destroyAllWindows()\n",
    "    \n",
    "# MTCNN\n",
    "def detect_faces_mtcnn(image_path):\n",
    "    # Load MTCNN model\n",
    "    detector = mtcnn.MTCNN()\n",
    "    image = cv2.imread(image_path)\n",
    "    pixels = cv2.cvtColor(image, cv2.COLOR_BGR2RGB)\n",
    "    faces = detector.detect_faces(pixels)\n",
    "    for result in faces:\n",
    "        x, y, width, height = result['box']\n",
    "        cv2.rectangle(image, (x, y), (x+width, y+height), (0, 255, 0), 2)\n",
    "    cv2.imshow('Face Detection (MTCNN)', image)\n",
    "    cv2.waitKey(0)\n",
    "    cv2.destroyAllWindows()\n"
   ]
  },
  {
   "cell_type": "code",
   "execution_count": 21,
   "id": "a7470d4a",
   "metadata": {},
   "outputs": [
    {
     "name": "stdout",
     "output_type": "stream",
     "text": [
      "1/1 [==============================] - 1s 580ms/step\n",
      "1/1 [==============================] - 0s 100ms/step\n",
      "1/1 [==============================] - 0s 16ms/step\n",
      "1/1 [==============================] - 0s 31ms/step\n",
      "1/1 [==============================] - 0s 22ms/step\n",
      "1/1 [==============================] - 0s 22ms/step\n",
      "1/1 [==============================] - 0s 16ms/step\n",
      "1/1 [==============================] - 0s 16ms/step\n",
      "1/1 [==============================] - 0s 22ms/step\n",
      "1/1 [==============================] - 0s 16ms/step\n",
      "1/1 [==============================] - 0s 16ms/step\n",
      "26/26 [==============================] - 0s 5ms/step\n",
      "3/3 [==============================] - 0s 16ms/step\n"
     ]
    }
   ],
   "source": [
    "def main():\n",
    "    #detect_faces_dlib_cnn('imgs/footballTeam.png')\n",
    "    #detect_faces_dlib_hog('imgs/faces.jpg')\n",
    "    #detect_faces_mtcnn('imgs/footballTeam.png')\n",
    "    #detect_faces_haar_cascade('imgs/prebbieGroup1.png')\n",
    "    #detect_faces_dnn('imgs/groupPhoto1.png')\n",
    "    \n",
    "\n",
    "if __name__ == \"__main__\":\n",
    "    main()"
   ]
  }
 ],
 "metadata": {
  "kernelspec": {
   "display_name": "Python 3 (ipykernel)",
   "language": "python",
   "name": "python3"
  },
  "language_info": {
   "codemirror_mode": {
    "name": "ipython",
    "version": 3
   },
   "file_extension": ".py",
   "mimetype": "text/x-python",
   "name": "python",
   "nbconvert_exporter": "python",
   "pygments_lexer": "ipython3",
   "version": "3.9.13"
  }
 },
 "nbformat": 4,
 "nbformat_minor": 5
}
